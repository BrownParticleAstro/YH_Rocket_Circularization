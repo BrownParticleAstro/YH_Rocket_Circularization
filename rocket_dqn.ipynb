{
 "cells": [
  {
   "cell_type": "code",
   "execution_count": null,
   "metadata": {},
   "outputs": [],
   "source": [
    "import rocket_gym\n",
    "from DQN import DeepQNetwork"
   ]
  },
  {
   "cell_type": "code",
   "execution_count": null,
   "metadata": {},
   "outputs": [],
   "source": [
    "model = DeepQNetwork(dims=[4, 128, 128, 9],\n",
    "                        epsilon=1.0, epsilon_decay=.1, gamma=.99,\n",
    "                        memory=100000, start_updating=2000,\n",
    "                        batch_size=32, learning_rate=1e-3, descent_frequency=32, update_frequency=2)\n",
    "# model.load('./pdlm_ddpg_destablized/')\n",
    "with rocket_gym.make('RocketCircularization-v0') as env:\n",
    "    env = rocket_gym.DiscretiseAction(rocket_gym.PolarizeAction(env))\n",
    "    model.train(env, episodes=500, render_frequency=100)\n",
    "model.save('./dqn_test_1/')\n"
   ]
  }
 ],
 "metadata": {
  "kernelspec": {
   "display_name": "Python 3.8.12 ('py3')",
   "language": "python",
   "name": "python3"
  },
  "language_info": {
   "name": "python",
   "version": "3.8.12"
  },
  "orig_nbformat": 4,
  "vscode": {
   "interpreter": {
    "hash": "5268428c00d39bd60a0a79e0a35b03d4c3d6c64ea8e020a912cb1bad7637c55b"
   }
  }
 },
 "nbformat": 4,
 "nbformat_minor": 2
}
